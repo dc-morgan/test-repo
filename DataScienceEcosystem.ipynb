{
  "metadata": {
    "kernelspec": {
      "name": "python",
      "display_name": "Python (Pyodide)",
      "language": "python"
    },
    "language_info": {
      "codemirror_mode": {
        "name": "python",
        "version": 3
      },
      "file_extension": ".py",
      "mimetype": "text/x-python",
      "name": "python",
      "nbconvert_exporter": "python",
      "pygments_lexer": "ipython3",
      "version": "3.8"
    }
  },
  "nbformat_minor": 5,
  "nbformat": 4,
  "cells": [
    {
      "id": "f7ab369c-b5d3-490f-99c9-743d707c2b6a",
      "cell_type": "markdown",
      "source": "# Data Science Tools and Ecosystem\nIn this notebook, Data Science Tools and Ecosystem are summarized.",
      "metadata": {}
    },
    {
      "id": "fbe66697-4bf5-4ed3-b6d3-44d11acdec17",
      "cell_type": "markdown",
      "source": "**Objectives:**\n+ List popular languages for Data Science\n+ List some of the commonly used libraries used by Data Scientists\n+ Create a table using markdown in Jupyter Notebooks\n+ Execute mathematical operations using code in Jupyter Notebooks",
      "metadata": {}
    },
    {
      "id": "cb3a5766-c354-4758-9d2f-4b038ac8a141",
      "cell_type": "markdown",
      "source": "Some of the popular languages that Data Scientists use are:\n1. python\n2. R\n3. Julia\n4. Scala",
      "metadata": {}
    },
    {
      "id": "93adeeee-c7d7-475a-87f2-262f39609b4c",
      "cell_type": "markdown",
      "source": "Some of the commonly used libraries used by Data Scientists include:\n1. pandas\n2. numpy\n3. scikitlearn",
      "metadata": {}
    },
    {
      "id": "90d3227d-5747-40b0-9a49-6f0023031388",
      "cell_type": "markdown",
      "source": "|Data Science Tools|\n|------------------|\n|Jupyter Notebooks|\n|Apache Hadoop|\n|Apache Spark|",
      "metadata": {}
    },
    {
      "id": "990b47fe-7725-4a46-8631-e7d8ab237730",
      "cell_type": "markdown",
      "source": "### Below are a few examples of evaluating arithmetic expressions in Python.",
      "metadata": {}
    },
    {
      "id": "e90372e2-e379-4adb-923b-972e66e59118",
      "cell_type": "code",
      "source": "#This a simple arithmetic expression to mutiply then add integers\n(3*4) +5",
      "metadata": {
        "trusted": true
      },
      "outputs": [
        {
          "execution_count": 1,
          "output_type": "execute_result",
          "data": {
            "text/plain": "17"
          },
          "metadata": {}
        }
      ],
      "execution_count": 1
    },
    {
      "id": "acc6b16a-aec5-47dc-a0d0-50c28aaa6424",
      "cell_type": "code",
      "source": "#This will convert 200 minutes to hours by diving by 60\n200 / 60",
      "metadata": {
        "trusted": true
      },
      "outputs": [
        {
          "execution_count": 2,
          "output_type": "execute_result",
          "data": {
            "text/plain": "3.3333333333333335"
          },
          "metadata": {}
        }
      ],
      "execution_count": 2
    },
    {
      "id": "876be240-dbf2-4762-9920-c9849d5767d5",
      "cell_type": "markdown",
      "source": "## Author\nD Morgan",
      "metadata": {}
    }
  ]
}